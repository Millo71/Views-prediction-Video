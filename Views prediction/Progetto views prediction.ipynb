{
 "cells": [
  {
   "cell_type": "markdown",
   "metadata": {
    "id": "4sMBQFkPbU1N"
   },
   "source": [
    "# Esercizio"
   ]
  },
  {
   "cell_type": "code",
   "execution_count": null,
   "metadata": {
    "colab": {
     "base_uri": "https://localhost:8080/"
    },
    "id": "AwT2tL6NeWAn",
    "outputId": "b502ebfa-87fc-4d54-c5d9-dc289260552c"
   },
   "outputs": [
    {
     "name": "stdout",
     "output_type": "stream",
     "text": [
      "Mounted at /content/drive\n"
     ]
    }
   ],
   "source": [
    "from google.colab import drive\n",
    "drive.mount('/content/drive')"
   ]
  },
  {
   "cell_type": "markdown",
   "metadata": {
    "id": "jl-jDqTZCEu-"
   },
   "source": [
    "#1. Analisi del Dataset"
   ]
  },
  {
   "cell_type": "markdown",
   "metadata": {
    "id": "t2YHzw-loWrR"
   },
   "source": [
    "predire quante visualizzazione puo fare un video che carico su youtube in base a quello che ha imparato nel dataser"
   ]
  },
  {
   "cell_type": "code",
   "execution_count": 1,
   "metadata": {
    "executionInfo": {
     "elapsed": 12786,
     "status": "ok",
     "timestamp": 1737769222452,
     "user": {
      "displayName": "Simone Camilli",
      "userId": "03986188409703881829"
     },
     "user_tz": -60
    },
    "id": "WQR9ICdcYBko"
   },
   "outputs": [],
   "source": [
    "from google.colab import drive\n",
    "import pandas as pd\n",
    "import numpy as np\n",
    "import sys\n",
    "import seaborn as sns\n",
    "\n",
    "from sklearn.model_selection import train_test_split, GridSearchCV\n",
    "from sklearn.preprocessing import StandardScaler, LabelEncoder, MinMaxScaler, OneHotEncoder\n",
    "from sklearn.metrics import mean_squared_error, mean_absolute_error, r2_score\n",
    "from sklearn.linear_model import LinearRegression\n",
    "from sklearn.ensemble import RandomForestRegressor, GradientBoostingRegressor\n",
    "from sklearn.tree import DecisionTreeRegressor\n",
    "from sklearn.compose import ColumnTransformer\n",
    "from sklearn.pipeline import Pipeline"
   ]
  },
  {
   "cell_type": "markdown",
   "metadata": {
    "id": "I87WojTsc1NI"
   },
   "source": [
    "#Import del Dataset e visualizzazione dei dati iniziali"
   ]
  },
  {
   "cell_type": "code",
   "execution_count": 4,
   "metadata": {
    "colab": {
     "base_uri": "https://localhost:8080/"
    },
    "executionInfo": {
     "elapsed": 1890,
     "status": "ok",
     "timestamp": 1737769311673,
     "user": {
      "displayName": "Simone Camilli",
      "userId": "03986188409703881829"
     },
     "user_tz": -60
    },
    "id": "gxAv9oFvRxPU",
    "outputId": "4b45d12d-be1a-45c9-a1a0-25077e0e4f7b"
   },
   "outputs": [
    {
     "name": "stdout",
     "output_type": "stream",
     "text": [
      "Drive already mounted at /content/drive; to attempt to forcibly remount, call drive.mount(\"/content/drive\", force_remount=True).\n",
      "Dimensioni del dataset: (1881, 8)\n",
      "Totale righe: 1881\n",
      "Totale colonne: 8\n",
      "   Unnamed: 0                                              Title     Video ID  \\\n",
      "0           0  Apple Pay Is Killing the Physical Wallet After...  wAZZ-UWGVHI   \n",
      "1           1                    The most EXPENSIVE thing I own.  b3x28s61q3c   \n",
      "2           2                 My New House Gaming Setup is SICK!  4mgePWWCAmA   \n",
      "3           3  Petrol Vs Liquid Nitrogen | Freezing Experimen...  kXiYSI7H2b0   \n",
      "4           4                     Best Back to School Tech 2022!  ErMwWXQxHp0   \n",
      "\n",
      "  Published At Keyword    Likes  Comments      Views  \n",
      "0   2022-08-23    tech   3407.0     672.0   135612.0  \n",
      "1   2022-08-24    tech  76779.0    4306.0  1758063.0  \n",
      "2   2022-08-23    tech  63825.0    3338.0  1564007.0  \n",
      "3   2022-08-23    tech  71566.0    1426.0   922918.0  \n",
      "4   2022-08-08    tech  96513.0    5155.0  1855644.0  \n",
      "\n",
      "\n",
      "Statistiche descrittive:\n",
      "        Unnamed: 0         Likes       Comments         Views\n",
      "count  1881.000000  1.879000e+03    1879.000000  1.879000e+03\n",
      "mean    940.000000  1.700610e+05    7863.331559  1.161292e+07\n",
      "std     543.142247  7.962293e+05   37879.964926  1.084450e+08\n",
      "min       0.000000 -1.000000e+00      -1.000000  2.500000e+01\n",
      "25%     470.000000  2.672500e+03     199.000000  8.451500e+04\n",
      "50%     940.000000  1.478700e+04     814.000000  5.917210e+05\n",
      "75%    1410.000000  6.090600e+04    3377.500000  2.804978e+06\n",
      "max    1880.000000  1.644556e+07  732818.000000  4.034122e+09\n"
     ]
    }
   ],
   "source": [
    "drive.mount('/content/drive')\n",
    "\n",
    "sys.path.append('/content/drive/MyDrive')\n",
    "\n",
    "df = pd.read_csv('/content/drive/MyDrive/dataset/videos-stats.csv', encoding='latin-1')\n",
    "\n",
    "print(f\"Dimensioni del dataset: {df.shape}\")\n",
    "print(f\"Totale righe: {df.shape[0]}\")\n",
    "print(f\"Totale colonne: {df.shape[1]}\")\n",
    "\n",
    "print(df.head())\n",
    "#Statisctiche descrittive\n",
    "print(\"\\n\")\n",
    "print(\"Statistiche descrittive:\")\n",
    "print(df.describe())\n",
    "\n",
    "df = pd.read_csv('/content/drive/MyDrive/dataset/videos-stats.csv', encoding='latin-1')"
   ]
  },
  {
   "cell_type": "markdown",
   "metadata": {
    "id": "L1yvAPDuf2Gm"
   },
   "source": [
    "#Enconding"
   ]
  },
  {
   "cell_type": "code",
   "execution_count": 5,
   "metadata": {
    "executionInfo": {
     "elapsed": 256,
     "status": "ok",
     "timestamp": 1737769314751,
     "user": {
      "displayName": "Simone Camilli",
      "userId": "03986188409703881829"
     },
     "user_tz": -60
    },
    "id": "N2ZShOOlg1wq"
   },
   "outputs": [],
   "source": [
    "label_encoder = LabelEncoder()\n",
    "\n",
    "#Applica Label Encoding alla colonna \"Title e Keyword\"\n",
    "df['Title'] = label_encoder.fit_transform(df['Title'])\n",
    "df['Keyword'] = label_encoder.fit_transform(df['Keyword'])"
   ]
  },
  {
   "cell_type": "markdown",
   "metadata": {
    "id": "77546Vz-fyFV"
   },
   "source": [
    "#Normalizzazione delle colonne"
   ]
  },
  {
   "cell_type": "code",
   "execution_count": 6,
   "metadata": {
    "executionInfo": {
     "elapsed": 213,
     "status": "ok",
     "timestamp": 1737769316087,
     "user": {
      "displayName": "Simone Camilli",
      "userId": "03986188409703881829"
     },
     "user_tz": -60
    },
    "id": "PjmYLtFIZAdF"
   },
   "outputs": [],
   "source": [
    "#Selezionate le colonne da normalizzare\n",
    "columns_to_normalize = ['Likes','Comments','Views','Title','Keyword']\n",
    "\n",
    "#Creare uno scaler e normalizzare i dati\n",
    "scaler = MinMaxScaler()\n",
    "df[columns_to_normalize] = scaler.fit_transform(df[columns_to_normalize])"
   ]
  },
  {
   "cell_type": "markdown",
   "metadata": {
    "id": "y3uwrQ6Zf6Bq"
   },
   "source": [
    "#Visualizzazione dei dati dopo l'encoding"
   ]
  },
  {
   "cell_type": "code",
   "execution_count": 7,
   "metadata": {
    "colab": {
     "base_uri": "https://localhost:8080/"
    },
    "executionInfo": {
     "elapsed": 237,
     "status": "ok",
     "timestamp": 1737769317424,
     "user": {
      "displayName": "Simone Camilli",
      "userId": "03986188409703881829"
     },
     "user_tz": -60
    },
    "id": "4sXW4RNZcxmd",
    "outputId": "6ff5ed5d-2fe4-46b0-f3ab-4046c341adee"
   },
   "outputs": [
    {
     "name": "stdout",
     "output_type": "stream",
     "text": [
      "   Unnamed: 0     Title     Video ID Published At  Keyword     Likes  \\\n",
      "0           0  0.138694  wAZZ-UWGVHI   2022-08-23    0.925  0.000207   \n",
      "1           1  0.826228  b3x28s61q3c   2022-08-24    0.925  0.004669   \n",
      "2           2  0.598489  4mgePWWCAmA   2022-08-23    0.925  0.003881   \n",
      "3           3  0.652995  kXiYSI7H2b0   2022-08-23    0.925  0.004352   \n",
      "4           4  0.170534  ErMwWXQxHp0   2022-08-08    0.925  0.005869   \n",
      "\n",
      "   Comments     Views  \n",
      "0  0.000918  0.000034  \n",
      "1  0.005877  0.000436  \n",
      "2  0.004556  0.000388  \n",
      "3  0.001947  0.000229  \n",
      "4  0.007036  0.000460  \n",
      "<class 'pandas.core.frame.DataFrame'>\n",
      "RangeIndex: 1881 entries, 0 to 1880\n",
      "Data columns (total 8 columns):\n",
      " #   Column        Non-Null Count  Dtype  \n",
      "---  ------        --------------  -----  \n",
      " 0   Unnamed: 0    1881 non-null   int64  \n",
      " 1   Title         1881 non-null   float64\n",
      " 2   Video ID      1881 non-null   object \n",
      " 3   Published At  1881 non-null   object \n",
      " 4   Keyword       1881 non-null   float64\n",
      " 5   Likes         1879 non-null   float64\n",
      " 6   Comments      1879 non-null   float64\n",
      " 7   Views         1879 non-null   float64\n",
      "dtypes: float64(5), int64(1), object(2)\n",
      "memory usage: 117.7+ KB\n",
      "None\n"
     ]
    }
   ],
   "source": [
    "#Visualizzare i primi risultati\n",
    "print(df.head())\n",
    "print(df.info())"
   ]
  },
  {
   "cell_type": "markdown",
   "metadata": {
    "id": "by9WKPBAfQep"
   },
   "source": [
    "#Preprocessing e Normalizzazione"
   ]
  },
  {
   "cell_type": "code",
   "execution_count": 8,
   "metadata": {
    "colab": {
     "base_uri": "https://localhost:8080/"
    },
    "executionInfo": {
     "elapsed": 229,
     "status": "ok",
     "timestamp": 1737769321772,
     "user": {
      "displayName": "Simone Camilli",
      "userId": "03986188409703881829"
     },
     "user_tz": -60
    },
    "id": "4QLuZLo9TM7p",
    "outputId": "2d254080-8c24-4ff9-f60d-8803d0a73bc4"
   },
   "outputs": [
    {
     "name": "stdout",
     "output_type": "stream",
     "text": [
      "Valori mancanti per colonna:\n",
      "Unnamed: 0      0\n",
      "Title           0\n",
      "Video ID        0\n",
      "Published At    0\n",
      "Keyword         0\n",
      "Likes           0\n",
      "Comments        0\n",
      "Views           0\n",
      "dtype: int64\n"
     ]
    }
   ],
   "source": [
    "#Imputare valori mancanti\n",
    "#Numerici: sostituire con la media per \"Likes\", \"Comments\" e \"Views\"\n",
    "for col in [\"Likes\", \"Comments\", \"Views\"]:\n",
    "    if col in df.columns:\n",
    "        df[col] = df[col].fillna(df[col].mean())\n",
    "\n",
    "#Rimuovere duplicati\n",
    "df = df.drop_duplicates()\n",
    "\n",
    "#Gestione degli outlier\n",
    "#Identificazione di outlier con il metodo iqr\n",
    "numeric_cols = df.select_dtypes(include=np.number).columns\n",
    "if not df.empty:\n",
    "    q1 = df[numeric_cols].quantile(0.25)\n",
    "    q3 = df[numeric_cols].quantile(0.75)\n",
    "    iqr = q3 - q1\n",
    "\n",
    "    #Rimuovere outlier solo dalle colonne numeriche\n",
    "    outliers = ((df[numeric_cols] < (q1 - 1.5 * iqr)) | (df[numeric_cols] > (q3 + 1.5 * iqr))).any(axis=1)\n",
    "    df = df[~outliers]\n",
    "\n",
    "#Controllo valori mancanti\n",
    "missing_values = df.isnull().sum()\n",
    "print(\"Valori mancanti per colonna:\")\n",
    "print(missing_values)\n",
    "\n",
    "#Rimozione delle righe con valori mancanti\n",
    "df.dropna(inplace=True)"
   ]
  },
  {
   "cell_type": "code",
   "execution_count": 9,
   "metadata": {
    "colab": {
     "base_uri": "https://localhost:8080/"
    },
    "executionInfo": {
     "elapsed": 247,
     "status": "ok",
     "timestamp": 1737769323949,
     "user": {
      "displayName": "Simone Camilli",
      "userId": "03986188409703881829"
     },
     "user_tz": -60
    },
    "id": "Wr4zxWdPclGE",
    "outputId": "7f01decf-149b-4233-d826-8b6c49dbb506"
   },
   "outputs": [
    {
     "name": "stdout",
     "output_type": "stream",
     "text": [
      "   Unnamed: 0     Title     Video ID Published At  Keyword     Likes  \\\n",
      "0           0  0.138694  wAZZ-UWGVHI   2022-08-23    0.925  0.000207   \n",
      "1           1  0.826228  b3x28s61q3c   2022-08-24    0.925  0.004669   \n",
      "2           2  0.598489  4mgePWWCAmA   2022-08-23    0.925  0.003881   \n",
      "3           3  0.652995  kXiYSI7H2b0   2022-08-23    0.925  0.004352   \n",
      "4           4  0.170534  ErMwWXQxHp0   2022-08-08    0.925  0.005869   \n",
      "\n",
      "   Comments     Views  \n",
      "0  0.000918  0.000034  \n",
      "1  0.005877  0.000436  \n",
      "2  0.004556  0.000388  \n",
      "3  0.001947  0.000229  \n",
      "4  0.007036  0.000460  \n"
     ]
    }
   ],
   "source": [
    "print(df.head())"
   ]
  },
  {
   "cell_type": "code",
   "execution_count": 10,
   "metadata": {
    "executionInfo": {
     "elapsed": 245,
     "status": "ok",
     "timestamp": 1737769325088,
     "user": {
      "displayName": "Simone Camilli",
      "userId": "03986188409703881829"
     },
     "user_tz": -60
    },
    "id": "bWQCW8bZZiwI"
   },
   "outputs": [],
   "source": [
    "X = df[['Likes', 'Comments', 'Title', 'Keyword']]  #Features\n",
    "y = df['Views']  #Target"
   ]
  },
  {
   "cell_type": "code",
   "execution_count": 11,
   "metadata": {
    "executionInfo": {
     "elapsed": 1,
     "status": "ok",
     "timestamp": 1737769325956,
     "user": {
      "displayName": "Simone Camilli",
      "userId": "03986188409703881829"
     },
     "user_tz": -60
    },
    "id": "hznV6aNqcAIs"
   },
   "outputs": [],
   "source": [
    "#Split dei dati in test e train\n",
    "X_train, X_test, y_train, y_test = train_test_split(X, y, test_size=0.2, random_state=42)"
   ]
  },
  {
   "cell_type": "markdown",
   "metadata": {
    "id": "xBApMMdtcTcQ"
   },
   "source": [
    "#Linear Regression"
   ]
  },
  {
   "cell_type": "code",
   "execution_count": 12,
   "metadata": {
    "executionInfo": {
     "elapsed": 242,
     "status": "ok",
     "timestamp": 1737769327358,
     "user": {
      "displayName": "Simone Camilli",
      "userId": "03986188409703881829"
     },
     "user_tz": -60
    },
    "id": "vNnqcbORcBSN"
   },
   "outputs": [],
   "source": [
    "linear_model = LinearRegression()\n",
    "linear_model.fit(X_train, y_train)\n",
    "y_pred_linear = linear_model.predict(X_test)"
   ]
  },
  {
   "cell_type": "markdown",
   "metadata": {
    "id": "7t-2j7i5cYoi"
   },
   "source": [
    "#Random Forest Default"
   ]
  },
  {
   "cell_type": "code",
   "execution_count": 13,
   "metadata": {
    "executionInfo": {
     "elapsed": 828,
     "status": "ok",
     "timestamp": 1737769329234,
     "user": {
      "displayName": "Simone Camilli",
      "userId": "03986188409703881829"
     },
     "user_tz": -60
    },
    "id": "mr4GUvzScEPy"
   },
   "outputs": [],
   "source": [
    "rf_model_default = RandomForestRegressor(random_state=42)\n",
    "rf_model_default.fit(X_train, y_train)\n",
    "y_pred_rf_default = rf_model_default.predict(X_test)"
   ]
  },
  {
   "cell_type": "markdown",
   "metadata": {
    "id": "80d6W4U_chbD"
   },
   "source": [
    "#Random Forest Avanzato\n"
   ]
  },
  {
   "cell_type": "code",
   "execution_count": 14,
   "metadata": {
    "executionInfo": {
     "elapsed": 1334,
     "status": "ok",
     "timestamp": 1737769331567,
     "user": {
      "displayName": "Simone Camilli",
      "userId": "03986188409703881829"
     },
     "user_tz": -60
    },
    "id": "CkuyOqwScHjg"
   },
   "outputs": [],
   "source": [
    "rf_model_advanced = RandomForestRegressor(n_estimators=200, max_depth=10, random_state=42)\n",
    "rf_model_advanced.fit(X_train, y_train)\n",
    "y_pred_rf_advanced = rf_model_advanced.predict(X_test)"
   ]
  },
  {
   "cell_type": "code",
   "execution_count": 16,
   "metadata": {
    "colab": {
     "base_uri": "https://localhost:8080/",
     "height": 390
    },
    "executionInfo": {
     "elapsed": 79216,
     "status": "error",
     "timestamp": 1737769419350,
     "user": {
      "displayName": "Simone Camilli",
      "userId": "03986188409703881829"
     },
     "user_tz": -60
    },
    "id": "uU-Mxr7krqQJ",
    "outputId": "93a981b7-dbab-4fff-e2bf-a23d62b0428d"
   },
   "outputs": [
    {
     "name": "stdout",
     "output_type": "stream",
     "text": [
      "Fitting 3 folds for each of 108 candidates, totalling 324 fits\n"
     ]
    },
    {
     "ename": "KeyboardInterrupt",
     "evalue": "",
     "output_type": "error",
     "traceback": [
      "\u001b[0;31m---------------------------------------------------------------------------\u001b[0m",
      "\u001b[0;31mKeyboardInterrupt\u001b[0m                         Traceback (most recent call last)",
      "\u001b[0;32m<ipython-input-16-2af6ffae9668>\u001b[0m in \u001b[0;36m<cell line: 0>\u001b[0;34m()\u001b[0m\n\u001b[1;32m     11\u001b[0m rf_grid_search = GridSearchCV(estimator=rf_model_gs, param_grid=rf_param_grid,\n\u001b[1;32m     12\u001b[0m                               cv=3, n_jobs=-1, verbose=2, scoring='r2')\n\u001b[0;32m---> 13\u001b[0;31m \u001b[0mrf_grid_search\u001b[0m\u001b[0;34m.\u001b[0m\u001b[0mfit\u001b[0m\u001b[0;34m(\u001b[0m\u001b[0mX_train\u001b[0m\u001b[0;34m,\u001b[0m \u001b[0my_train\u001b[0m\u001b[0;34m)\u001b[0m\u001b[0;34m\u001b[0m\u001b[0;34m\u001b[0m\u001b[0m\n\u001b[0m\u001b[1;32m     14\u001b[0m \u001b[0;34m\u001b[0m\u001b[0m\n\u001b[1;32m     15\u001b[0m \u001b[0mprint\u001b[0m\u001b[0;34m(\u001b[0m\u001b[0;34m\"Miglior modello Random Forest:\"\u001b[0m\u001b[0;34m)\u001b[0m\u001b[0;34m\u001b[0m\u001b[0;34m\u001b[0m\u001b[0m\n",
      "\u001b[0;32m/usr/local/lib/python3.11/dist-packages/sklearn/base.py\u001b[0m in \u001b[0;36mwrapper\u001b[0;34m(estimator, *args, **kwargs)\u001b[0m\n\u001b[1;32m   1387\u001b[0m                 )\n\u001b[1;32m   1388\u001b[0m             ):\n\u001b[0;32m-> 1389\u001b[0;31m                 \u001b[0;32mreturn\u001b[0m \u001b[0mfit_method\u001b[0m\u001b[0;34m(\u001b[0m\u001b[0mestimator\u001b[0m\u001b[0;34m,\u001b[0m \u001b[0;34m*\u001b[0m\u001b[0margs\u001b[0m\u001b[0;34m,\u001b[0m \u001b[0;34m**\u001b[0m\u001b[0mkwargs\u001b[0m\u001b[0;34m)\u001b[0m\u001b[0;34m\u001b[0m\u001b[0;34m\u001b[0m\u001b[0m\n\u001b[0m\u001b[1;32m   1390\u001b[0m \u001b[0;34m\u001b[0m\u001b[0m\n\u001b[1;32m   1391\u001b[0m         \u001b[0;32mreturn\u001b[0m \u001b[0mwrapper\u001b[0m\u001b[0;34m\u001b[0m\u001b[0;34m\u001b[0m\u001b[0m\n",
      "\u001b[0;32m/usr/local/lib/python3.11/dist-packages/sklearn/model_selection/_search.py\u001b[0m in \u001b[0;36mfit\u001b[0;34m(self, X, y, **params)\u001b[0m\n\u001b[1;32m   1022\u001b[0m                 \u001b[0;32mreturn\u001b[0m \u001b[0mresults\u001b[0m\u001b[0;34m\u001b[0m\u001b[0;34m\u001b[0m\u001b[0m\n\u001b[1;32m   1023\u001b[0m \u001b[0;34m\u001b[0m\u001b[0m\n\u001b[0;32m-> 1024\u001b[0;31m             \u001b[0mself\u001b[0m\u001b[0;34m.\u001b[0m\u001b[0m_run_search\u001b[0m\u001b[0;34m(\u001b[0m\u001b[0mevaluate_candidates\u001b[0m\u001b[0;34m)\u001b[0m\u001b[0;34m\u001b[0m\u001b[0;34m\u001b[0m\u001b[0m\n\u001b[0m\u001b[1;32m   1025\u001b[0m \u001b[0;34m\u001b[0m\u001b[0m\n\u001b[1;32m   1026\u001b[0m             \u001b[0;31m# multimetric is determined here because in the case of a callable\u001b[0m\u001b[0;34m\u001b[0m\u001b[0;34m\u001b[0m\u001b[0m\n",
      "\u001b[0;32m/usr/local/lib/python3.11/dist-packages/sklearn/model_selection/_search.py\u001b[0m in \u001b[0;36m_run_search\u001b[0;34m(self, evaluate_candidates)\u001b[0m\n\u001b[1;32m   1569\u001b[0m     \u001b[0;32mdef\u001b[0m \u001b[0m_run_search\u001b[0m\u001b[0;34m(\u001b[0m\u001b[0mself\u001b[0m\u001b[0;34m,\u001b[0m \u001b[0mevaluate_candidates\u001b[0m\u001b[0;34m)\u001b[0m\u001b[0;34m:\u001b[0m\u001b[0;34m\u001b[0m\u001b[0;34m\u001b[0m\u001b[0m\n\u001b[1;32m   1570\u001b[0m         \u001b[0;34m\"\"\"Search all candidates in param_grid\"\"\"\u001b[0m\u001b[0;34m\u001b[0m\u001b[0;34m\u001b[0m\u001b[0m\n\u001b[0;32m-> 1571\u001b[0;31m         \u001b[0mevaluate_candidates\u001b[0m\u001b[0;34m(\u001b[0m\u001b[0mParameterGrid\u001b[0m\u001b[0;34m(\u001b[0m\u001b[0mself\u001b[0m\u001b[0;34m.\u001b[0m\u001b[0mparam_grid\u001b[0m\u001b[0;34m)\u001b[0m\u001b[0;34m)\u001b[0m\u001b[0;34m\u001b[0m\u001b[0;34m\u001b[0m\u001b[0m\n\u001b[0m\u001b[1;32m   1572\u001b[0m \u001b[0;34m\u001b[0m\u001b[0m\n\u001b[1;32m   1573\u001b[0m \u001b[0;34m\u001b[0m\u001b[0m\n",
      "\u001b[0;32m/usr/local/lib/python3.11/dist-packages/sklearn/model_selection/_search.py\u001b[0m in \u001b[0;36mevaluate_candidates\u001b[0;34m(candidate_params, cv, more_results)\u001b[0m\n\u001b[1;32m    968\u001b[0m                     )\n\u001b[1;32m    969\u001b[0m \u001b[0;34m\u001b[0m\u001b[0m\n\u001b[0;32m--> 970\u001b[0;31m                 out = parallel(\n\u001b[0m\u001b[1;32m    971\u001b[0m                     delayed(_fit_and_score)(\n\u001b[1;32m    972\u001b[0m                         \u001b[0mclone\u001b[0m\u001b[0;34m(\u001b[0m\u001b[0mbase_estimator\u001b[0m\u001b[0;34m)\u001b[0m\u001b[0;34m,\u001b[0m\u001b[0;34m\u001b[0m\u001b[0;34m\u001b[0m\u001b[0m\n",
      "\u001b[0;32m/usr/local/lib/python3.11/dist-packages/sklearn/utils/parallel.py\u001b[0m in \u001b[0;36m__call__\u001b[0;34m(self, iterable)\u001b[0m\n\u001b[1;32m     75\u001b[0m             \u001b[0;32mfor\u001b[0m \u001b[0mdelayed_func\u001b[0m\u001b[0;34m,\u001b[0m \u001b[0margs\u001b[0m\u001b[0;34m,\u001b[0m \u001b[0mkwargs\u001b[0m \u001b[0;32min\u001b[0m \u001b[0miterable\u001b[0m\u001b[0;34m\u001b[0m\u001b[0;34m\u001b[0m\u001b[0m\n\u001b[1;32m     76\u001b[0m         )\n\u001b[0;32m---> 77\u001b[0;31m         \u001b[0;32mreturn\u001b[0m \u001b[0msuper\u001b[0m\u001b[0;34m(\u001b[0m\u001b[0;34m)\u001b[0m\u001b[0;34m.\u001b[0m\u001b[0m__call__\u001b[0m\u001b[0;34m(\u001b[0m\u001b[0miterable_with_config\u001b[0m\u001b[0;34m)\u001b[0m\u001b[0;34m\u001b[0m\u001b[0;34m\u001b[0m\u001b[0m\n\u001b[0m\u001b[1;32m     78\u001b[0m \u001b[0;34m\u001b[0m\u001b[0m\n\u001b[1;32m     79\u001b[0m \u001b[0;34m\u001b[0m\u001b[0m\n",
      "\u001b[0;32m/usr/local/lib/python3.11/dist-packages/joblib/parallel.py\u001b[0m in \u001b[0;36m__call__\u001b[0;34m(self, iterable)\u001b[0m\n\u001b[1;32m   2005\u001b[0m         \u001b[0mnext\u001b[0m\u001b[0;34m(\u001b[0m\u001b[0moutput\u001b[0m\u001b[0;34m)\u001b[0m\u001b[0;34m\u001b[0m\u001b[0;34m\u001b[0m\u001b[0m\n\u001b[1;32m   2006\u001b[0m \u001b[0;34m\u001b[0m\u001b[0m\n\u001b[0;32m-> 2007\u001b[0;31m         \u001b[0;32mreturn\u001b[0m \u001b[0moutput\u001b[0m \u001b[0;32mif\u001b[0m \u001b[0mself\u001b[0m\u001b[0;34m.\u001b[0m\u001b[0mreturn_generator\u001b[0m \u001b[0;32melse\u001b[0m \u001b[0mlist\u001b[0m\u001b[0;34m(\u001b[0m\u001b[0moutput\u001b[0m\u001b[0;34m)\u001b[0m\u001b[0;34m\u001b[0m\u001b[0;34m\u001b[0m\u001b[0m\n\u001b[0m\u001b[1;32m   2008\u001b[0m \u001b[0;34m\u001b[0m\u001b[0m\n\u001b[1;32m   2009\u001b[0m     \u001b[0;32mdef\u001b[0m \u001b[0m__repr__\u001b[0m\u001b[0;34m(\u001b[0m\u001b[0mself\u001b[0m\u001b[0;34m)\u001b[0m\u001b[0;34m:\u001b[0m\u001b[0;34m\u001b[0m\u001b[0;34m\u001b[0m\u001b[0m\n",
      "\u001b[0;32m/usr/local/lib/python3.11/dist-packages/joblib/parallel.py\u001b[0m in \u001b[0;36m_get_outputs\u001b[0;34m(self, iterator, pre_dispatch)\u001b[0m\n\u001b[1;32m   1648\u001b[0m \u001b[0;34m\u001b[0m\u001b[0m\n\u001b[1;32m   1649\u001b[0m             \u001b[0;32mwith\u001b[0m \u001b[0mself\u001b[0m\u001b[0;34m.\u001b[0m\u001b[0m_backend\u001b[0m\u001b[0;34m.\u001b[0m\u001b[0mretrieval_context\u001b[0m\u001b[0;34m(\u001b[0m\u001b[0;34m)\u001b[0m\u001b[0;34m:\u001b[0m\u001b[0;34m\u001b[0m\u001b[0;34m\u001b[0m\u001b[0m\n\u001b[0;32m-> 1650\u001b[0;31m                 \u001b[0;32myield\u001b[0m \u001b[0;32mfrom\u001b[0m \u001b[0mself\u001b[0m\u001b[0;34m.\u001b[0m\u001b[0m_retrieve\u001b[0m\u001b[0;34m(\u001b[0m\u001b[0;34m)\u001b[0m\u001b[0;34m\u001b[0m\u001b[0;34m\u001b[0m\u001b[0m\n\u001b[0m\u001b[1;32m   1651\u001b[0m \u001b[0;34m\u001b[0m\u001b[0m\n\u001b[1;32m   1652\u001b[0m         \u001b[0;32mexcept\u001b[0m \u001b[0mGeneratorExit\u001b[0m\u001b[0;34m:\u001b[0m\u001b[0;34m\u001b[0m\u001b[0;34m\u001b[0m\u001b[0m\n",
      "\u001b[0;32m/usr/local/lib/python3.11/dist-packages/joblib/parallel.py\u001b[0m in \u001b[0;36m_retrieve\u001b[0;34m(self)\u001b[0m\n\u001b[1;32m   1760\u001b[0m                 (self._jobs[0].get_status(\n\u001b[1;32m   1761\u001b[0m                     timeout=self.timeout) == TASK_PENDING)):\n\u001b[0;32m-> 1762\u001b[0;31m                 \u001b[0mtime\u001b[0m\u001b[0;34m.\u001b[0m\u001b[0msleep\u001b[0m\u001b[0;34m(\u001b[0m\u001b[0;36m0.01\u001b[0m\u001b[0;34m)\u001b[0m\u001b[0;34m\u001b[0m\u001b[0;34m\u001b[0m\u001b[0m\n\u001b[0m\u001b[1;32m   1763\u001b[0m                 \u001b[0;32mcontinue\u001b[0m\u001b[0;34m\u001b[0m\u001b[0;34m\u001b[0m\u001b[0m\n\u001b[1;32m   1764\u001b[0m \u001b[0;34m\u001b[0m\u001b[0m\n",
      "\u001b[0;31mKeyboardInterrupt\u001b[0m: "
     ]
    }
   ],
   "source": [
    "#Grid Search per Random Forest\n",
    "rf_param_grid = {\n",
    "    'n_estimators': [100, 200, 300],\n",
    "    'max_depth': [5, 10, 20, None],\n",
    "    'min_samples_split': [2, 5, 10],\n",
    "    'min_samples_leaf': [1, 2, 4]\n",
    "}\n",
    "\n",
    "\n",
    "rf_model_gs = RandomForestRegressor(random_state=42)\n",
    "rf_grid_search = GridSearchCV(estimator=rf_model_gs, param_grid=rf_param_grid,\n",
    "                              cv=3, n_jobs=-1, verbose=2, scoring='r2')\n",
    "rf_grid_search.fit(X_train, y_train)\n",
    "\n",
    "print(\"Miglior modello Random Forest:\")\n",
    "print(rf_grid_search.best_params_)"
   ]
  },
  {
   "cell_type": "markdown",
   "metadata": {
    "id": "hKMPoQCJg0yy"
   },
   "source": [
    "#Decision Tree"
   ]
  },
  {
   "cell_type": "code",
   "execution_count": 17,
   "metadata": {
    "executionInfo": {
     "elapsed": 231,
     "status": "ok",
     "timestamp": 1737769422428,
     "user": {
      "displayName": "Simone Camilli",
      "userId": "03986188409703881829"
     },
     "user_tz": -60
    },
    "id": "e8JVR5JOgzT3"
   },
   "outputs": [],
   "source": [
    "dt_model = DecisionTreeRegressor(random_state=42)\n",
    "dt_model.fit(X_train, y_train)\n",
    "y_pred_dt = dt_model.predict(X_test)"
   ]
  },
  {
   "cell_type": "markdown",
   "metadata": {
    "id": "-ymjXFh8hJ1c"
   },
   "source": [
    "#Gradient Boosting"
   ]
  },
  {
   "cell_type": "code",
   "execution_count": 18,
   "metadata": {
    "executionInfo": {
     "elapsed": 1013,
     "status": "ok",
     "timestamp": 1737769424854,
     "user": {
      "displayName": "Simone Camilli",
      "userId": "03986188409703881829"
     },
     "user_tz": -60
    },
    "id": "LKb3JVvJhJS7"
   },
   "outputs": [],
   "source": [
    "gb_model = GradientBoostingRegressor(random_state=42)\n",
    "gb_model.fit(X_train, y_train)\n",
    "y_pred_gb = gb_model.predict(X_test)"
   ]
  },
  {
   "cell_type": "code",
   "execution_count": 19,
   "metadata": {
    "colab": {
     "base_uri": "https://localhost:8080/",
     "height": 390
    },
    "executionInfo": {
     "elapsed": 4914,
     "status": "error",
     "timestamp": 1737769430788,
     "user": {
      "displayName": "Simone Camilli",
      "userId": "03986188409703881829"
     },
     "user_tz": -60
    },
    "id": "-kN60zgvtu7C",
    "outputId": "993d8595-ed4b-4510-b0a0-c501f5ae4873"
   },
   "outputs": [
    {
     "name": "stdout",
     "output_type": "stream",
     "text": [
      "Fitting 3 folds for each of 243 candidates, totalling 729 fits\n"
     ]
    },
    {
     "ename": "KeyboardInterrupt",
     "evalue": "",
     "output_type": "error",
     "traceback": [
      "\u001b[0;31m---------------------------------------------------------------------------\u001b[0m",
      "\u001b[0;31mKeyboardInterrupt\u001b[0m                         Traceback (most recent call last)",
      "\u001b[0;32m<ipython-input-19-2271dea54023>\u001b[0m in \u001b[0;36m<cell line: 0>\u001b[0;34m()\u001b[0m\n\u001b[1;32m     11\u001b[0m gb_grid_search = GridSearchCV(estimator=gb_model_gs, param_grid=gb_param_grid,\n\u001b[1;32m     12\u001b[0m                               cv=3, n_jobs=-1, verbose=2, scoring='r2')\n\u001b[0;32m---> 13\u001b[0;31m \u001b[0mgb_grid_search\u001b[0m\u001b[0;34m.\u001b[0m\u001b[0mfit\u001b[0m\u001b[0;34m(\u001b[0m\u001b[0mX_train\u001b[0m\u001b[0;34m,\u001b[0m \u001b[0my_train\u001b[0m\u001b[0;34m)\u001b[0m\u001b[0;34m\u001b[0m\u001b[0;34m\u001b[0m\u001b[0m\n\u001b[0m\u001b[1;32m     14\u001b[0m \u001b[0;34m\u001b[0m\u001b[0m\n\u001b[1;32m     15\u001b[0m \u001b[0mprint\u001b[0m\u001b[0;34m(\u001b[0m\u001b[0;34m\"Miglior modello Gradient Boosting:\"\u001b[0m\u001b[0;34m)\u001b[0m\u001b[0;34m\u001b[0m\u001b[0;34m\u001b[0m\u001b[0m\n",
      "\u001b[0;32m/usr/local/lib/python3.11/dist-packages/sklearn/base.py\u001b[0m in \u001b[0;36mwrapper\u001b[0;34m(estimator, *args, **kwargs)\u001b[0m\n\u001b[1;32m   1387\u001b[0m                 )\n\u001b[1;32m   1388\u001b[0m             ):\n\u001b[0;32m-> 1389\u001b[0;31m                 \u001b[0;32mreturn\u001b[0m \u001b[0mfit_method\u001b[0m\u001b[0;34m(\u001b[0m\u001b[0mestimator\u001b[0m\u001b[0;34m,\u001b[0m \u001b[0;34m*\u001b[0m\u001b[0margs\u001b[0m\u001b[0;34m,\u001b[0m \u001b[0;34m**\u001b[0m\u001b[0mkwargs\u001b[0m\u001b[0;34m)\u001b[0m\u001b[0;34m\u001b[0m\u001b[0;34m\u001b[0m\u001b[0m\n\u001b[0m\u001b[1;32m   1390\u001b[0m \u001b[0;34m\u001b[0m\u001b[0m\n\u001b[1;32m   1391\u001b[0m         \u001b[0;32mreturn\u001b[0m \u001b[0mwrapper\u001b[0m\u001b[0;34m\u001b[0m\u001b[0;34m\u001b[0m\u001b[0m\n",
      "\u001b[0;32m/usr/local/lib/python3.11/dist-packages/sklearn/model_selection/_search.py\u001b[0m in \u001b[0;36mfit\u001b[0;34m(self, X, y, **params)\u001b[0m\n\u001b[1;32m   1022\u001b[0m                 \u001b[0;32mreturn\u001b[0m \u001b[0mresults\u001b[0m\u001b[0;34m\u001b[0m\u001b[0;34m\u001b[0m\u001b[0m\n\u001b[1;32m   1023\u001b[0m \u001b[0;34m\u001b[0m\u001b[0m\n\u001b[0;32m-> 1024\u001b[0;31m             \u001b[0mself\u001b[0m\u001b[0;34m.\u001b[0m\u001b[0m_run_search\u001b[0m\u001b[0;34m(\u001b[0m\u001b[0mevaluate_candidates\u001b[0m\u001b[0;34m)\u001b[0m\u001b[0;34m\u001b[0m\u001b[0;34m\u001b[0m\u001b[0m\n\u001b[0m\u001b[1;32m   1025\u001b[0m \u001b[0;34m\u001b[0m\u001b[0m\n\u001b[1;32m   1026\u001b[0m             \u001b[0;31m# multimetric is determined here because in the case of a callable\u001b[0m\u001b[0;34m\u001b[0m\u001b[0;34m\u001b[0m\u001b[0m\n",
      "\u001b[0;32m/usr/local/lib/python3.11/dist-packages/sklearn/model_selection/_search.py\u001b[0m in \u001b[0;36m_run_search\u001b[0;34m(self, evaluate_candidates)\u001b[0m\n\u001b[1;32m   1569\u001b[0m     \u001b[0;32mdef\u001b[0m \u001b[0m_run_search\u001b[0m\u001b[0;34m(\u001b[0m\u001b[0mself\u001b[0m\u001b[0;34m,\u001b[0m \u001b[0mevaluate_candidates\u001b[0m\u001b[0;34m)\u001b[0m\u001b[0;34m:\u001b[0m\u001b[0;34m\u001b[0m\u001b[0;34m\u001b[0m\u001b[0m\n\u001b[1;32m   1570\u001b[0m         \u001b[0;34m\"\"\"Search all candidates in param_grid\"\"\"\u001b[0m\u001b[0;34m\u001b[0m\u001b[0;34m\u001b[0m\u001b[0m\n\u001b[0;32m-> 1571\u001b[0;31m         \u001b[0mevaluate_candidates\u001b[0m\u001b[0;34m(\u001b[0m\u001b[0mParameterGrid\u001b[0m\u001b[0;34m(\u001b[0m\u001b[0mself\u001b[0m\u001b[0;34m.\u001b[0m\u001b[0mparam_grid\u001b[0m\u001b[0;34m)\u001b[0m\u001b[0;34m)\u001b[0m\u001b[0;34m\u001b[0m\u001b[0;34m\u001b[0m\u001b[0m\n\u001b[0m\u001b[1;32m   1572\u001b[0m \u001b[0;34m\u001b[0m\u001b[0m\n\u001b[1;32m   1573\u001b[0m \u001b[0;34m\u001b[0m\u001b[0m\n",
      "\u001b[0;32m/usr/local/lib/python3.11/dist-packages/sklearn/model_selection/_search.py\u001b[0m in \u001b[0;36mevaluate_candidates\u001b[0;34m(candidate_params, cv, more_results)\u001b[0m\n\u001b[1;32m    968\u001b[0m                     )\n\u001b[1;32m    969\u001b[0m \u001b[0;34m\u001b[0m\u001b[0m\n\u001b[0;32m--> 970\u001b[0;31m                 out = parallel(\n\u001b[0m\u001b[1;32m    971\u001b[0m                     delayed(_fit_and_score)(\n\u001b[1;32m    972\u001b[0m                         \u001b[0mclone\u001b[0m\u001b[0;34m(\u001b[0m\u001b[0mbase_estimator\u001b[0m\u001b[0;34m)\u001b[0m\u001b[0;34m,\u001b[0m\u001b[0;34m\u001b[0m\u001b[0;34m\u001b[0m\u001b[0m\n",
      "\u001b[0;32m/usr/local/lib/python3.11/dist-packages/sklearn/utils/parallel.py\u001b[0m in \u001b[0;36m__call__\u001b[0;34m(self, iterable)\u001b[0m\n\u001b[1;32m     75\u001b[0m             \u001b[0;32mfor\u001b[0m \u001b[0mdelayed_func\u001b[0m\u001b[0;34m,\u001b[0m \u001b[0margs\u001b[0m\u001b[0;34m,\u001b[0m \u001b[0mkwargs\u001b[0m \u001b[0;32min\u001b[0m \u001b[0miterable\u001b[0m\u001b[0;34m\u001b[0m\u001b[0;34m\u001b[0m\u001b[0m\n\u001b[1;32m     76\u001b[0m         )\n\u001b[0;32m---> 77\u001b[0;31m         \u001b[0;32mreturn\u001b[0m \u001b[0msuper\u001b[0m\u001b[0;34m(\u001b[0m\u001b[0;34m)\u001b[0m\u001b[0;34m.\u001b[0m\u001b[0m__call__\u001b[0m\u001b[0;34m(\u001b[0m\u001b[0miterable_with_config\u001b[0m\u001b[0;34m)\u001b[0m\u001b[0;34m\u001b[0m\u001b[0;34m\u001b[0m\u001b[0m\n\u001b[0m\u001b[1;32m     78\u001b[0m \u001b[0;34m\u001b[0m\u001b[0m\n\u001b[1;32m     79\u001b[0m \u001b[0;34m\u001b[0m\u001b[0m\n",
      "\u001b[0;32m/usr/local/lib/python3.11/dist-packages/joblib/parallel.py\u001b[0m in \u001b[0;36m__call__\u001b[0;34m(self, iterable)\u001b[0m\n\u001b[1;32m   2005\u001b[0m         \u001b[0mnext\u001b[0m\u001b[0;34m(\u001b[0m\u001b[0moutput\u001b[0m\u001b[0;34m)\u001b[0m\u001b[0;34m\u001b[0m\u001b[0;34m\u001b[0m\u001b[0m\n\u001b[1;32m   2006\u001b[0m \u001b[0;34m\u001b[0m\u001b[0m\n\u001b[0;32m-> 2007\u001b[0;31m         \u001b[0;32mreturn\u001b[0m \u001b[0moutput\u001b[0m \u001b[0;32mif\u001b[0m \u001b[0mself\u001b[0m\u001b[0;34m.\u001b[0m\u001b[0mreturn_generator\u001b[0m \u001b[0;32melse\u001b[0m \u001b[0mlist\u001b[0m\u001b[0;34m(\u001b[0m\u001b[0moutput\u001b[0m\u001b[0;34m)\u001b[0m\u001b[0;34m\u001b[0m\u001b[0;34m\u001b[0m\u001b[0m\n\u001b[0m\u001b[1;32m   2008\u001b[0m \u001b[0;34m\u001b[0m\u001b[0m\n\u001b[1;32m   2009\u001b[0m     \u001b[0;32mdef\u001b[0m \u001b[0m__repr__\u001b[0m\u001b[0;34m(\u001b[0m\u001b[0mself\u001b[0m\u001b[0;34m)\u001b[0m\u001b[0;34m:\u001b[0m\u001b[0;34m\u001b[0m\u001b[0;34m\u001b[0m\u001b[0m\n",
      "\u001b[0;32m/usr/local/lib/python3.11/dist-packages/joblib/parallel.py\u001b[0m in \u001b[0;36m_get_outputs\u001b[0;34m(self, iterator, pre_dispatch)\u001b[0m\n\u001b[1;32m   1648\u001b[0m \u001b[0;34m\u001b[0m\u001b[0m\n\u001b[1;32m   1649\u001b[0m             \u001b[0;32mwith\u001b[0m \u001b[0mself\u001b[0m\u001b[0;34m.\u001b[0m\u001b[0m_backend\u001b[0m\u001b[0;34m.\u001b[0m\u001b[0mretrieval_context\u001b[0m\u001b[0;34m(\u001b[0m\u001b[0;34m)\u001b[0m\u001b[0;34m:\u001b[0m\u001b[0;34m\u001b[0m\u001b[0;34m\u001b[0m\u001b[0m\n\u001b[0;32m-> 1650\u001b[0;31m                 \u001b[0;32myield\u001b[0m \u001b[0;32mfrom\u001b[0m \u001b[0mself\u001b[0m\u001b[0;34m.\u001b[0m\u001b[0m_retrieve\u001b[0m\u001b[0;34m(\u001b[0m\u001b[0;34m)\u001b[0m\u001b[0;34m\u001b[0m\u001b[0;34m\u001b[0m\u001b[0m\n\u001b[0m\u001b[1;32m   1651\u001b[0m \u001b[0;34m\u001b[0m\u001b[0m\n\u001b[1;32m   1652\u001b[0m         \u001b[0;32mexcept\u001b[0m \u001b[0mGeneratorExit\u001b[0m\u001b[0;34m:\u001b[0m\u001b[0;34m\u001b[0m\u001b[0;34m\u001b[0m\u001b[0m\n",
      "\u001b[0;32m/usr/local/lib/python3.11/dist-packages/joblib/parallel.py\u001b[0m in \u001b[0;36m_retrieve\u001b[0;34m(self)\u001b[0m\n\u001b[1;32m   1760\u001b[0m                 (self._jobs[0].get_status(\n\u001b[1;32m   1761\u001b[0m                     timeout=self.timeout) == TASK_PENDING)):\n\u001b[0;32m-> 1762\u001b[0;31m                 \u001b[0mtime\u001b[0m\u001b[0;34m.\u001b[0m\u001b[0msleep\u001b[0m\u001b[0;34m(\u001b[0m\u001b[0;36m0.01\u001b[0m\u001b[0;34m)\u001b[0m\u001b[0;34m\u001b[0m\u001b[0;34m\u001b[0m\u001b[0m\n\u001b[0m\u001b[1;32m   1763\u001b[0m                 \u001b[0;32mcontinue\u001b[0m\u001b[0;34m\u001b[0m\u001b[0;34m\u001b[0m\u001b[0m\n\u001b[1;32m   1764\u001b[0m \u001b[0;34m\u001b[0m\u001b[0m\n",
      "\u001b[0;31mKeyboardInterrupt\u001b[0m: "
     ]
    }
   ],
   "source": [
    "#Grid Search per Gradient Boosting\n",
    "gb_param_grid = {\n",
    "    'n_estimators': [100, 200, 300],\n",
    "    'learning_rate': [0.01, 0.1, 0.2],\n",
    "    'max_depth': [3, 5, 10],\n",
    "    'min_samples_split': [2, 5, 10],\n",
    "    'min_samples_leaf': [1, 2, 4]\n",
    "}\n",
    "\n",
    "gb_model_gs = GradientBoostingRegressor(random_state=42)\n",
    "gb_grid_search = GridSearchCV(estimator=gb_model_gs, param_grid=gb_param_grid,\n",
    "                              cv=3, n_jobs=-1, verbose=2, scoring='r2')\n",
    "gb_grid_search.fit(X_train, y_train)\n",
    "\n",
    "print(\"Miglior modello Gradient Boosting:\")\n",
    "print(gb_grid_search.best_params_)"
   ]
  },
  {
   "cell_type": "markdown",
   "metadata": {
    "id": "DyrvvI1adpKN"
   },
   "source": [
    "#Performance dei modelli\n"
   ]
  },
  {
   "cell_type": "code",
   "execution_count": 22,
   "metadata": {
    "colab": {
     "base_uri": "https://localhost:8080/"
    },
    "executionInfo": {
     "elapsed": 242,
     "status": "ok",
     "timestamp": 1737769447589,
     "user": {
      "displayName": "Simone Camilli",
      "userId": "03986188409703881829"
     },
     "user_tz": -60
    },
    "id": "IOaIRbG2cJuw",
    "outputId": "31fd7944-7506-4e01-cdd2-9e16885b5c83"
   },
   "outputs": [
    {
     "name": "stdout",
     "output_type": "stream",
     "text": [
      "Valutazione dei modelli:\n",
      "Regressione Lineare - MSE: 0.0000, RMSE: 0.0002, MAE: 0.0001, R²: 0.6569\n",
      "Random Forest (default) - MSE: 0.0000, RMSE: 0.0002, MAE: 0.0001, R²: 0.5813\n",
      "Random Forest (iperparametri avanzati senza grid search) - MSE: 0.0000, RMSE: 0.0002, MAE: 0.0001, R²: 0.5745\n",
      "Decision Tree - MSE: 0.0000, RMSE: 0.0003, MAE: 0.0001, R²: 0.1196\n",
      "Gradient Boosting senza grid search - MSE: 0.0000, RMSE: 0.0002, MAE: 0.0001, R²: 0.6627\n"
     ]
    }
   ],
   "source": [
    "def evaluate_model(y_true, y_pred, model_name):\n",
    "    mse = mean_squared_error(y_true, y_pred)\n",
    "    rmse = np.sqrt(mse)  #Radice quadrata del MSE\n",
    "    mae = mean_absolute_error(y_true, y_pred)\n",
    "    r2 = r2_score(y_true, y_pred)\n",
    "    print(f\"{model_name} - MSE: {mse:.4f}, RMSE: {rmse:.4f}, MAE: {mae:.4f}, R²: {r2:.4f}\")\n",
    "\n",
    "#Valutazione dei modelli\n",
    "print(\"Valutazione dei modelli:\")\n",
    "evaluate_model(y_test, y_pred_linear, \"Regressione Lineare\")\n",
    "evaluate_model(y_test, y_pred_rf_default, \"Random Forest (default)\")\n",
    "evaluate_model(y_test, y_pred_rf_advanced, \"Random Forest (iperparametri avanzati senza grid search)\")\n",
    "evaluate_model(y_test, y_pred_dt, \"Decision Tree\")\n",
    "evaluate_model(y_test, y_pred_gb, \"Gradient Boosting senza grid search\")"
   ]
  },
  {
   "cell_type": "markdown",
   "metadata": {
    "id": "yRh8nuVC8sC8"
   },
   "source": [
    "#Implementazione del progetto in ambito reale"
   ]
  },
  {
   "cell_type": "code",
   "execution_count": 24,
   "metadata": {
    "colab": {
     "base_uri": "https://localhost:8080/"
    },
    "executionInfo": {
     "elapsed": 1952,
     "status": "ok",
     "timestamp": 1737769465127,
     "user": {
      "displayName": "Simone Camilli",
      "userId": "03986188409703881829"
     },
     "user_tz": -60
    },
    "id": "eLK6L6MJABXS",
    "outputId": "1b5a68f3-836c-4aee-8f32-42596728e51c"
   },
   "outputs": [
    {
     "name": "stdout",
     "output_type": "stream",
     "text": [
      "Drive already mounted at /content/drive; to attempt to forcibly remount, call drive.mount(\"/content/drive\", force_remount=True).\n",
      "Dimensioni del dataset: (1881, 8)\n",
      "Totale righe: 1881\n",
      "Totale colonne: 8\n",
      "   Unnamed: 0                                              Title     Video ID  \\\n",
      "0           0  Apple Pay Is Killing the Physical Wallet After...  wAZZ-UWGVHI   \n",
      "1           1                    The most EXPENSIVE thing I own.  b3x28s61q3c   \n",
      "2           2                 My New House Gaming Setup is SICK!  4mgePWWCAmA   \n",
      "3           3  Petrol Vs Liquid Nitrogen | Freezing Experimen...  kXiYSI7H2b0   \n",
      "4           4                     Best Back to School Tech 2022!  ErMwWXQxHp0   \n",
      "\n",
      "  Published At Keyword    Likes  Comments      Views  \n",
      "0   2022-08-23    tech   3407.0     672.0   135612.0  \n",
      "1   2022-08-24    tech  76779.0    4306.0  1758063.0  \n",
      "2   2022-08-23    tech  63825.0    3338.0  1564007.0  \n",
      "3   2022-08-23    tech  71566.0    1426.0   922918.0  \n",
      "4   2022-08-08    tech  96513.0    5155.0  1855644.0  \n"
     ]
    }
   ],
   "source": [
    "drive.mount('/content/drive')\n",
    "\n",
    "sys.path.append('/content/drive/MyDrive')\n",
    "\n",
    "df = pd.read_csv('/content/drive/MyDrive/dataset/videos-stats.csv', encoding='latin-1')\n",
    "\n",
    "print(f\"Dimensioni del dataset: {df.shape}\")\n",
    "print(f\"Totale righe: {df.shape[0]}\")\n",
    "print(f\"Totale colonne: {df.shape[1]}\")\n",
    "\n",
    "print(df.head())\n",
    "\n",
    "df = pd.read_csv('/content/drive/MyDrive/dataset/videos-stats.csv', encoding='latin-1')"
   ]
  },
  {
   "cell_type": "code",
   "execution_count": 25,
   "metadata": {
    "executionInfo": {
     "elapsed": 211,
     "status": "ok",
     "timestamp": 1737769467317,
     "user": {
      "displayName": "Simone Camilli",
      "userId": "03986188409703881829"
     },
     "user_tz": -60
    },
    "id": "sfwv5ogjADpM"
   },
   "outputs": [],
   "source": [
    "#Selezionate le colonne da normalizzare\n",
    "columns_to_normalize = ['Likes','Comments','Views','Title','Keyword']"
   ]
  },
  {
   "cell_type": "code",
   "execution_count": 26,
   "metadata": {
    "colab": {
     "base_uri": "https://localhost:8080/"
    },
    "executionInfo": {
     "elapsed": 2,
     "status": "ok",
     "timestamp": 1737769468132,
     "user": {
      "displayName": "Simone Camilli",
      "userId": "03986188409703881829"
     },
     "user_tz": -60
    },
    "id": "hNpaEy7-AGB6",
    "outputId": "19ef6f66-d397-4ea5-acdc-b919d315d197"
   },
   "outputs": [
    {
     "name": "stdout",
     "output_type": "stream",
     "text": [
      "   Unnamed: 0                                              Title     Video ID  \\\n",
      "0           0  Apple Pay Is Killing the Physical Wallet After...  wAZZ-UWGVHI   \n",
      "1           1                    The most EXPENSIVE thing I own.  b3x28s61q3c   \n",
      "2           2                 My New House Gaming Setup is SICK!  4mgePWWCAmA   \n",
      "3           3  Petrol Vs Liquid Nitrogen | Freezing Experimen...  kXiYSI7H2b0   \n",
      "4           4                     Best Back to School Tech 2022!  ErMwWXQxHp0   \n",
      "\n",
      "  Published At Keyword    Likes  Comments      Views  \n",
      "0   2022-08-23    tech   3407.0     672.0   135612.0  \n",
      "1   2022-08-24    tech  76779.0    4306.0  1758063.0  \n",
      "2   2022-08-23    tech  63825.0    3338.0  1564007.0  \n",
      "3   2022-08-23    tech  71566.0    1426.0   922918.0  \n",
      "4   2022-08-08    tech  96513.0    5155.0  1855644.0  \n"
     ]
    }
   ],
   "source": [
    "#Visualizzare i primi risultati\n",
    "print(df.head())"
   ]
  },
  {
   "cell_type": "code",
   "execution_count": 27,
   "metadata": {
    "colab": {
     "base_uri": "https://localhost:8080/"
    },
    "executionInfo": {
     "elapsed": 214,
     "status": "ok",
     "timestamp": 1737769469324,
     "user": {
      "displayName": "Simone Camilli",
      "userId": "03986188409703881829"
     },
     "user_tz": -60
    },
    "id": "dwx476i9AHZR",
    "outputId": "f4df9978-9c01-4458-f082-3a55f0be5764"
   },
   "outputs": [
    {
     "name": "stdout",
     "output_type": "stream",
     "text": [
      "Valori mancanti per colonna:\n",
      "Unnamed: 0      0\n",
      "Title           0\n",
      "Video ID        0\n",
      "Published At    0\n",
      "Keyword         0\n",
      "Likes           0\n",
      "Comments        0\n",
      "Views           0\n",
      "dtype: int64\n"
     ]
    }
   ],
   "source": [
    "#Imputare valori mancanti\n",
    "#Numerici: sostituire con la media per \"Likes\", \"Comments\" e \"Views\"\n",
    "for col in [\"Likes\", \"Comments\", \"Views\"]:\n",
    "    if col in df.columns:\n",
    "        df[col] = df[col].fillna(df[col].mean())\n",
    "\n",
    "#Rimuovere duplicati\n",
    "df = df.drop_duplicates()\n",
    "\n",
    "#GESTIONE DEGLI OUTLIERS\n",
    "#Identificazione di outlier con il metodo iqr\n",
    "numeric_cols = df.select_dtypes(include=np.number).columns\n",
    "if not df.empty:\n",
    "    q1 = df[numeric_cols].quantile(0.25)\n",
    "    q3 = df[numeric_cols].quantile(0.75)\n",
    "    iqr = q3 - q1\n",
    "\n",
    "    # Rimuovere outlier solo dalle colonne numeriche\n",
    "    outliers = ((df[numeric_cols] < (q1 - 1.5 * iqr)) | (df[numeric_cols] > (q3 + 1.5 * iqr))).any(axis=1)\n",
    "    df = df[~outliers]\n",
    "\n",
    "#Controllo valori mancanti\n",
    "missing_values = df.isnull().sum()\n",
    "print(\"Valori mancanti per colonna:\")\n",
    "print(missing_values)\n",
    "\n",
    "#Rimozione delle righe con valori mancanti\n",
    "df.dropna(inplace=True)"
   ]
  },
  {
   "cell_type": "code",
   "execution_count": 28,
   "metadata": {
    "executionInfo": {
     "elapsed": 236,
     "status": "ok",
     "timestamp": 1737769471577,
     "user": {
      "displayName": "Simone Camilli",
      "userId": "03986188409703881829"
     },
     "user_tz": -60
    },
    "id": "8BMeUmqRAJ8c"
   },
   "outputs": [],
   "source": [
    "X = df[['Likes', 'Comments', 'Title', 'Keyword']]  #Features\n",
    "y = df['Views']  #Target\n",
    "\n",
    "#Suddivisione del dataset\n",
    "X_train, X_test, y_train, y_test = train_test_split(X, y, test_size=0.2, random_state=42)"
   ]
  },
  {
   "cell_type": "code",
   "execution_count": 29,
   "metadata": {
    "executionInfo": {
     "elapsed": 233,
     "status": "ok",
     "timestamp": 1737769472772,
     "user": {
      "displayName": "Simone Camilli",
      "userId": "03986188409703881829"
     },
     "user_tz": -60
    },
    "id": "Ss4bfHDoAOHm"
   },
   "outputs": [],
   "source": [
    "#Creazione del preprocessor con OneHotEncoder\n",
    "preprocessor = ColumnTransformer(\n",
    "    transformers=[\n",
    "        ('cat', OneHotEncoder(handle_unknown='ignore'), ['Keyword'])\n",
    "    ]\n",
    ")\n",
    "\n",
    "#Creazione del modello di Gradient Boosting\n",
    "pipeline = Pipeline(steps=[\n",
    "    ('preprocessor', preprocessor),\n",
    "    ('regressor', GradientBoostingRegressor())\n",
    "])"
   ]
  },
  {
   "cell_type": "code",
   "execution_count": 30,
   "metadata": {
    "colab": {
     "base_uri": "https://localhost:8080/"
    },
    "executionInfo": {
     "elapsed": 227,
     "status": "ok",
     "timestamp": 1737769473887,
     "user": {
      "displayName": "Simone Camilli",
      "userId": "03986188409703881829"
     },
     "user_tz": -60
    },
    "id": "bBoiuV2BAPrQ",
    "outputId": "6907d381-a958-4b79-d330-6fd370697276"
   },
   "outputs": [
    {
     "name": "stdout",
     "output_type": "stream",
     "text": [
      "le Keyword disponibili sono: \n",
      "['tech' 'news' 'gaming' 'sports' 'how-to' 'business' 'tutorial' 'finance'\n",
      " 'crypto' 'cubes' 'chess' 'apple' 'google' 'interview' 'history'\n",
      " 'literature' 'bed' 'trolling' 'asmr' 'music' 'food' 'mukbang' 'reaction'\n",
      " 'lofi' 'animals' 'education' 'minecraft' 'sat' 'mrbeast' 'cnn'\n",
      " 'mathchemistry' 'biology' 'physics' 'computer science' 'nintendo' 'xbox'\n",
      " 'marvel' 'movies' 'data science' 'game development' 'machine learning']\n"
     ]
    }
   ],
   "source": [
    "#Addestramento del modello\n",
    "pipeline.fit(X_train, y_train)\n",
    "\n",
    "#Stampa Keyword disponibili\n",
    "print(\"le Keyword disponibili sono: \")\n",
    "valori_unici = df['Keyword'].unique()\n",
    "print(valori_unici)\n",
    "\n",
    "#Funzione per fare previsioni\n",
    "def predici_visualizzazioni(keyword):\n",
    "    #Controlla se la keyword esiste nel dataset\n",
    "    if keyword not in df['Keyword'].values:\n",
    "        print(f\"Attenzione: la keyword '{keyword}' non è presente nel dataset.\")\n",
    "        return None  #Restituisci None se la keyword non esiste\n",
    "\n",
    "    keyword_df = pd.DataFrame({'Keyword': [keyword]})\n",
    "    previsione = pipeline.predict(keyword_df)\n",
    "    return previsione[0]"
   ]
  },
  {
   "cell_type": "code",
   "execution_count": null,
   "metadata": {
    "colab": {
     "background_save": true,
     "base_uri": "https://localhost:8080/"
    },
    "id": "2_jd1FchASVg"
   },
   "outputs": [
    {
     "name": "stdout",
     "output_type": "stream",
     "text": [
      "Le visualizzazioni previste per la categoria 'minecraft' sono: 790417.12\n"
     ]
    }
   ],
   "source": [
    "#Richiesta all'utente\n",
    "while True:\n",
    "    keyword_input = input(\"Inserisci il nome di una Keyword (o 'exit' per uscire): \")\n",
    "    if keyword_input.lower() == 'exit':\n",
    "        break\n",
    "    visualizzazioni_predette = predici_visualizzazioni(keyword_input)\n",
    "\n",
    "    if visualizzazioni_predette is not None:  #Solo se la previsione è valida\n",
    "        print(f\"Le visualizzazioni previste per la categoria '{keyword_input}' sono: {visualizzazioni_predette:.2f}\")"
   ]
  }
 ],
 "metadata": {
  "colab": {
   "name": "",
   "version": ""
  },
  "kernelspec": {
   "display_name": "Python 3",
   "name": "python3"
  },
  "language_info": {
   "name": "python"
  }
 },
 "nbformat": 4,
 "nbformat_minor": 0
}
